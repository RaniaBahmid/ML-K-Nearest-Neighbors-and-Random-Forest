{
  "nbformat": 4,
  "nbformat_minor": 0,
  "metadata": {
    "colab": {
      "name": "DM_MOD07_RF_RaniaBahmid..ipynb",
      "provenance": []
    },
    "kernelspec": {
      "name": "python3",
      "display_name": "Python 3"
    },
    "language_info": {
      "name": "python"
    }
  },
  "cells": [
    {
      "cell_type": "code",
      "execution_count": 1,
      "metadata": {
        "colab": {
          "base_uri": "https://localhost:8080/"
        },
        "id": "IthZ3Hiz4RAP",
        "outputId": "9e313a9c-c0bf-4ac5-fd80-7462f4740776"
      },
      "outputs": [
        {
          "output_type": "stream",
          "name": "stdout",
          "text": [
            "Training Set dimensions: (120, 4)\n",
            "Testing Set dimensions: (30, 4)\n",
            "RF predictions:\n",
            " [1 2 0 1 0 1 1 1 0 1 1 2 1 0 0 2 1 0 0 0 2 2 2 0 1 0 1 1 1 2]\n",
            "RF Expected:\n",
            " [1 2 0 1 0 1 1 1 0 1 1 2 1 0 0 2 1 0 0 0 2 2 2 0 1 0 1 1 1 2]\n",
            "RF Accuracy score: 100.00%\n",
            "RF Confusion Matrix:\n",
            " [[10  0  0]\n",
            " [ 0 13  0]\n",
            " [ 0  0  7]]\n",
            "RF Classification Report: \n",
            "               precision    recall  f1-score   support\n",
            "\n",
            "      Setosa       1.00      1.00      1.00        10\n",
            "  Versicolor       1.00      1.00      1.00        13\n",
            "   Virginica       1.00      1.00      1.00         7\n",
            "\n",
            "    accuracy                           1.00        30\n",
            "   macro avg       1.00      1.00      1.00        30\n",
            "weighted avg       1.00      1.00      1.00        30\n",
            "\n"
          ]
        }
      ],
      "source": [
        "#Import the required libraries\n",
        "#Library to read the file\n",
        "import pandas as pd\n",
        "#Library to label encoding \n",
        "from sklearn.preprocessing import LabelEncoder\n",
        "#Library to split dataset into training ad test dataset\n",
        "from sklearn.model_selection import train_test_split\n",
        "#Library for Machine Learning classification model\n",
        "from sklearn.ensemble import RandomForestClassifier\n",
        "#Library to validate the model\n",
        "from sklearn.metrics import confusion_matrix, accuracy_score, classification_report\n",
        "\n",
        "#Download the iris.csv file \n",
        "iris_url = (\"https://gist.githubusercontent.com/netj/8836201/raw/6f9306ad21398ea43cba4f7d537619d0e07d5ae3/iris.csv\")\n",
        "df = pd.read_csv(iris_url)\n",
        "\n",
        "#Preprocess \n",
        "#split data into features and target \n",
        "X = df.drop(columns=\"variety\")\n",
        "y = df[\"variety\"]\n",
        "#label encoding the target ‘variety’ column\n",
        "le = LabelEncoder()\n",
        "y = le.fit_transform(y)\n",
        "\n",
        "#Split the data for training and testing\n",
        "#Set Training and Testing Sizes\n",
        "X_train, X_test, y_train, y_test = train_test_split(X, y, test_size = 0.20, random_state = 10)\n",
        "\n",
        "#Check Training dimensions \n",
        "print(\"Training Set dimensions:\",X_train.shape )\n",
        "#Check Testing dimensions\n",
        "print(\"Testing Set dimensions:\",X_test.shape)\n",
        "\n",
        "#Select and build the model\n",
        "#Apply K Nearest Neighbors Machine Learning classification model\n",
        "rf_classifier= RandomForestClassifier()\n",
        "\n",
        "#Training the modle\n",
        "rf_classifier.fit(X_train,y_train)\n",
        "\n",
        "#making predictions on live data that the model hasn’t seen before\n",
        "y_pred=rf_classifier.predict(X_test)\n",
        "print(\"RF predictions:\\n\",y_pred)\n",
        "y_expect = y_test\n",
        "print(\"RF Expected:\\n\",y_expect)\n",
        "\n",
        "#Calculate Metrics for validate the model\n",
        "#Accuracy Score\n",
        "print(\"RF Accuracy score:\",f\"{rf_classifier.score(X_test, y_test):.2%}\")\n",
        "#Confusion Matrix \n",
        "rf_confusion = confusion_matrix(y_test, y_pred)\n",
        "print(\"RF Confusion Matrix:\\n\",rf_confusion)\n",
        "#Classification Report\n",
        "rf_target_names = [\"Setosa\", \"Versicolor\", \"Virginica\"]\n",
        "print(\"RF Classification Report: \\n\", classification_report(y_test, y_pred,target_names=rf_target_names))\n",
        "\n"
      ]
    }
  ]
}