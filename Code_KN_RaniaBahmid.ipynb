{
  "nbformat": 4,
  "nbformat_minor": 0,
  "metadata": {
    "colab": {
      "name": "DM_MOD07_KN_RaniaBahmid.ipynb",
      "provenance": []
    },
    "kernelspec": {
      "name": "python3",
      "display_name": "Python 3"
    },
    "language_info": {
      "name": "python"
    }
  },
  "cells": [
    {
      "cell_type": "code",
      "execution_count": 1,
      "metadata": {
        "colab": {
          "base_uri": "https://localhost:8080/"
        },
        "id": "TsR-nmVDv0Rv",
        "outputId": "778b8f36-10c4-4848-ca73-da9f974dd523"
      },
      "outputs": [
        {
          "output_type": "stream",
          "name": "stdout",
          "text": [
            " Preview the 5 firts rows of the in iris  \n",
            "    sepal.length  sepal.width  petal.length  petal.width variety\n",
            "0           5.1          3.5           1.4          0.2  Setosa\n",
            "1           4.9          3.0           1.4          0.2  Setosa\n",
            "2           4.7          3.2           1.3          0.2  Setosa\n",
            "3           4.6          3.1           1.5          0.2  Setosa\n",
            "4           5.0          3.6           1.4          0.2  Setosa\n",
            "Check the data type of the columns \n",
            "  sepal.length    float64\n",
            "sepal.width     float64\n",
            "petal.length    float64\n",
            "petal.width     float64\n",
            "variety          object\n",
            "dtype: object\n",
            "Training Set dimensions: (120, 4)\n",
            "Testing Set dimensions: (30, 4)\n",
            "kNN predictions:\n",
            " [1 2 0 1 0 1 2 1 0 1 1 2 1 0 0 2 1 0 0 0 2 2 2 0 1 0 1 1 1 2]\n",
            "kNN Expected:\n",
            " [1 2 0 1 0 1 1 1 0 1 1 2 1 0 0 2 1 0 0 0 2 2 2 0 1 0 1 1 1 2]\n",
            "kNN Accuracy score: 96.67%\n",
            "kNN Confusion matrix: \n",
            " [[10  0  0]\n",
            " [ 0 12  1]\n",
            " [ 0  0  7]]\n",
            "kNN Classification Report: \n",
            "               precision    recall  f1-score   support\n",
            "\n",
            "      Setosa       1.00      1.00      1.00        10\n",
            "  Versicolor       1.00      0.92      0.96        13\n",
            "   Virginica       0.88      1.00      0.93         7\n",
            "\n",
            "    accuracy                           0.97        30\n",
            "   macro avg       0.96      0.97      0.96        30\n",
            "weighted avg       0.97      0.97      0.97        30\n",
            "\n"
          ]
        }
      ],
      "source": [
        "#Import the required libraries\n",
        "#Library to read the file\n",
        "import pandas as pd\n",
        "#Library to label encoding \n",
        "from sklearn.preprocessing import LabelEncoder\n",
        "#Library to split dataset into training ad test dataset\n",
        "from sklearn.model_selection import train_test_split\n",
        "#Library for Machine Learning classification model\n",
        "from sklearn.neighbors import KNeighborsClassifier\n",
        "#Library to validate the model\n",
        "from sklearn.metrics import confusion_matrix, accuracy_score, classification_report\n",
        "\n",
        "#Download the iris.csv file \n",
        "iris_url = (\"https://gist.githubusercontent.com/netj/8836201/raw/6f9306ad21398ea43cba4f7d537619d0e07d5ae3/iris.csv\")\n",
        "df = pd.read_csv(iris_url)\n",
        "# Explore the dataset \n",
        "# preview the 5 firts rows of the dataset \n",
        "print (\" Preview the 5 firts rows of the in iris  \\n\",df.head())\n",
        "# print the type of columns \n",
        "print (\"Check the data type of the columns \\n \",df.dtypes)\n",
        "\n",
        "#Preprocess \n",
        "#Detrmine the features and target \n",
        "X = df.drop(columns='variety').values\n",
        "y = df['variety'].values\n",
        "#label encoding the target ‘variety’ column\n",
        "le = LabelEncoder()\n",
        "y = le.fit_transform(y)\n",
        "\n",
        "#Split the data for training and testing\n",
        "#Training and Testing Set Sizes\n",
        "X_train, X_test, y_train, y_test = train_test_split(X, y, test_size = 0.20, random_state = 10)\n",
        "#Check Training dimensions \n",
        "print(\"Training Set dimensions:\",X_train.shape )\n",
        "#Check Testing dimensions\n",
        "print(\"Testing Set dimensions:\",X_test.shape)\n",
        "\n",
        "#Select and build the model\n",
        "#Apply K Nearest Neighbors Machine Learning classification model\n",
        "knn_classifier = KNeighborsClassifier()\n",
        "#Training the modle\n",
        "knn_classifier.fit(X_train, y_train)\n",
        "\n",
        "\n",
        "\n",
        "#making predictions on live data that the model hasn’t seen before\n",
        "y_predicted = knn_classifier.predict(X_test)\n",
        "print(\"kNN predictions:\\n\",y_predicted)\n",
        "y_predicted[:10]\n",
        "y_expected = y_test\n",
        "print(\"kNN Expected:\\n\",y_expected)\n",
        "#Calculate Metrics for validate the model\n",
        "#Accuracy Score\n",
        "print(\"kNN Accuracy score:\",f\"{knn_classifier.score(X_test, y_test):.2%}\")\n",
        "#Confusion Matrix \n",
        "confusion = confusion_matrix(y_true=y_expected, y_pred=y_predicted)\n",
        "print(\"kNN Confusion matrix: \\n\",confusion)\n",
        "#Classification Report\n",
        "knn_target_names = [\"Setosa\", \"Versicolor\", \"Virginica\"]\n",
        "print(\"kNN Classification Report: \\n\" ,classification_report(y_test, y_predicted, target_names=knn_target_names))\n",
        "\n"
      ]
    }
  ]
}